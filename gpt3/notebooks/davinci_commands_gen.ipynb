{
 "cells": [
  {
   "cell_type": "code",
   "execution_count": 1,
   "id": "d8ab9384-bfd6-4e54-be3a-3bbb87fc4360",
   "metadata": {
    "ExecuteTime": {
     "end_time": "2024-07-26T12:24:59.215344Z",
     "start_time": "2024-07-26T12:24:58.345235600Z"
    }
   },
   "outputs": [
    {
     "name": "stderr",
     "output_type": "stream",
     "text": [
      "E:\\anaconda\\envs\\PAC-GPT\\lib\\site-packages\\scapy\\layers\\ipsec.py:469: CryptographyDeprecationWarning: Blowfish has been deprecated and will be removed in a future release\n",
      "  cipher=algorithms.Blowfish,\n",
      "E:\\anaconda\\envs\\PAC-GPT\\lib\\site-packages\\scapy\\layers\\ipsec.py:483: CryptographyDeprecationWarning: CAST5 has been deprecated and will be removed in a future release\n",
      "  cipher=algorithms.CAST5,\n"
     ]
    }
   ],
   "source": [
    "import random\n",
    "import re\n",
    "import pickle\n",
    "\n",
    "import openai\n",
    "\n",
    "from scapy.all import *\n",
    "from scapy.utils import RawPcapReader, wrpcap\n",
    "import scapy.all as scapy\n",
    "\n",
    "from scapy.layers.l2 import Ether\n",
    "from scapy.layers.inet import IP, TCP, ICMP"
   ]
  },
  {
   "cell_type": "code",
   "execution_count": 7,
   "outputs": [
    {
     "name": "stdout",
     "output_type": "stream",
     "text": [
      "0.28.0\n"
     ]
    }
   ],
   "source": [
    "print(openai.__version__)\n",
    "# （删去）111sk-proj-5LvxYFhISscPhn6z90J2T3BlbkFJMReVCAyueMzVGYM0mfsv111（删去）\n",
    "openai.api_key = 'api-key'"
   ],
   "metadata": {
    "collapsed": false,
    "ExecuteTime": {
     "end_time": "2024-07-26T13:03:48.422747100Z",
     "start_time": "2024-07-26T13:03:48.403727900Z"
    }
   }
  },
  {
   "cell_type": "code",
   "execution_count": 11,
   "outputs": [],
   "source": [
    "# Set the proxy URL and port\n",
    "proxy_url = 'http://127.0.0.1'\n",
    "proxy_port = '7890'\n",
    "\n",
    "# Set the http_proxy and https_proxy environment variables\n",
    "os.environ['http_proxy'] = f'{proxy_url}:{proxy_port}'\n",
    "os.environ['https_proxy'] = f'{proxy_url}:{proxy_port}'"
   ],
   "metadata": {
    "collapsed": false,
    "ExecuteTime": {
     "end_time": "2024-07-26T13:16:50.583847200Z",
     "start_time": "2024-07-26T13:16:50.568175200Z"
    }
   }
  },
  {
   "cell_type": "code",
   "execution_count": 3,
   "id": "13c8bff7-218b-4916-8e91-663ddedddf8e",
   "metadata": {
    "ExecuteTime": {
     "end_time": "2024-07-26T12:25:03.800845Z",
     "start_time": "2024-07-26T12:25:03.774356900Z"
    }
   },
   "outputs": [],
   "source": [
    "packets_per_request = 5"
   ]
  },
  {
   "cell_type": "code",
   "execution_count": 4,
   "id": "46f766e4-a85a-44f8-8d70-d10e4e3794bc",
   "metadata": {
    "ExecuteTime": {
     "end_time": "2024-07-26T12:25:05.453379600Z",
     "start_time": "2024-07-26T12:25:05.429315200Z"
    }
   },
   "outputs": [],
   "source": [
    "with open(\"../data/text/three_summaries.txt\",\"r\", encoding=\"utf-8\") as f:\n",
    "    packets_summary = f.read().splitlines()"
   ]
  },
  {
   "cell_type": "code",
   "execution_count": 5,
   "id": "d69ba537-d564-4e77-9ff0-371700f15130",
   "metadata": {
    "ExecuteTime": {
     "end_time": "2024-07-26T12:25:06.651743200Z",
     "start_time": "2024-07-26T12:25:06.621117900Z"
    }
   },
   "outputs": [
    {
     "data": {
      "text/plain": "9999"
     },
     "execution_count": 5,
     "metadata": {},
     "output_type": "execute_result"
    }
   ],
   "source": [
    "len(packets_summary)"
   ]
  },
  {
   "cell_type": "code",
   "execution_count": 12,
   "id": "78f7dd84-bc5e-430a-b760-bb0cda6bb733",
   "metadata": {
    "ExecuteTime": {
     "end_time": "2024-07-26T13:16:59.014406800Z",
     "start_time": "2024-07-26T13:16:58.145130900Z"
    }
   },
   "outputs": [
    {
     "name": "stdout",
     "output_type": "stream",
     "text": [
      "{\n",
      "  \"object\": \"list\",\n",
      "  \"data\": [\n",
      "    {\n",
      "      \"object\": \"engine\",\n",
      "      \"id\": \"dall-e-3\",\n",
      "      \"ready\": true,\n",
      "      \"owner\": \"system\",\n",
      "      \"permissions\": null,\n",
      "      \"created\": null\n",
      "    },\n",
      "    {\n",
      "      \"object\": \"engine\",\n",
      "      \"id\": \"dall-e-2\",\n",
      "      \"ready\": true,\n",
      "      \"owner\": \"system\",\n",
      "      \"permissions\": null,\n",
      "      \"created\": null\n",
      "    },\n",
      "    {\n",
      "      \"object\": \"engine\",\n",
      "      \"id\": \"tts-1-hd-1106\",\n",
      "      \"ready\": true,\n",
      "      \"owner\": \"system\",\n",
      "      \"permissions\": null,\n",
      "      \"created\": null\n",
      "    },\n",
      "    {\n",
      "      \"object\": \"engine\",\n",
      "      \"id\": \"tts-1-hd\",\n",
      "      \"ready\": true,\n",
      "      \"owner\": \"system\",\n",
      "      \"permissions\": null,\n",
      "      \"created\": null\n",
      "    },\n",
      "    {\n",
      "      \"object\": \"engine\",\n",
      "      \"id\": \"babbage-002\",\n",
      "      \"ready\": true,\n",
      "      \"owner\": \"system\",\n",
      "      \"permissions\": null,\n",
      "      \"created\": null\n",
      "    },\n",
      "    {\n",
      "      \"object\": \"engine\",\n",
      "      \"id\": \"text-embedding-3-small\",\n",
      "      \"ready\": true,\n",
      "      \"owner\": \"system\",\n",
      "      \"permissions\": null,\n",
      "      \"created\": null\n",
      "    },\n",
      "    {\n",
      "      \"object\": \"engine\",\n",
      "      \"id\": \"text-embedding-3-large\",\n",
      "      \"ready\": true,\n",
      "      \"owner\": \"system\",\n",
      "      \"permissions\": null,\n",
      "      \"created\": null\n",
      "    },\n",
      "    {\n",
      "      \"object\": \"engine\",\n",
      "      \"id\": \"gpt-3.5-turbo\",\n",
      "      \"ready\": true,\n",
      "      \"owner\": \"openai\",\n",
      "      \"permissions\": null,\n",
      "      \"created\": null\n",
      "    },\n",
      "    {\n",
      "      \"object\": \"engine\",\n",
      "      \"id\": \"gpt-3.5-turbo-instruct\",\n",
      "      \"ready\": true,\n",
      "      \"owner\": \"system\",\n",
      "      \"permissions\": null,\n",
      "      \"created\": null\n",
      "    },\n",
      "    {\n",
      "      \"object\": \"engine\",\n",
      "      \"id\": \"gpt-3.5-turbo-instruct-0914\",\n",
      "      \"ready\": true,\n",
      "      \"owner\": \"system\",\n",
      "      \"permissions\": null,\n",
      "      \"created\": null\n",
      "    },\n",
      "    {\n",
      "      \"object\": \"engine\",\n",
      "      \"id\": \"whisper-1\",\n",
      "      \"ready\": true,\n",
      "      \"owner\": \"openai-internal\",\n",
      "      \"permissions\": null,\n",
      "      \"created\": null\n",
      "    },\n",
      "    {\n",
      "      \"object\": \"engine\",\n",
      "      \"id\": \"text-embedding-ada-002\",\n",
      "      \"ready\": true,\n",
      "      \"owner\": \"openai-internal\",\n",
      "      \"permissions\": null,\n",
      "      \"created\": null\n",
      "    },\n",
      "    {\n",
      "      \"object\": \"engine\",\n",
      "      \"id\": \"gpt-3.5-turbo-16k\",\n",
      "      \"ready\": true,\n",
      "      \"owner\": \"openai-internal\",\n",
      "      \"permissions\": null,\n",
      "      \"created\": null\n",
      "    },\n",
      "    {\n",
      "      \"object\": \"engine\",\n",
      "      \"id\": \"davinci-002\",\n",
      "      \"ready\": true,\n",
      "      \"owner\": \"system\",\n",
      "      \"permissions\": null,\n",
      "      \"created\": null\n",
      "    },\n",
      "    {\n",
      "      \"object\": \"engine\",\n",
      "      \"id\": \"tts-1-1106\",\n",
      "      \"ready\": true,\n",
      "      \"owner\": \"system\",\n",
      "      \"permissions\": null,\n",
      "      \"created\": null\n",
      "    },\n",
      "    {\n",
      "      \"object\": \"engine\",\n",
      "      \"id\": \"gpt-3.5-turbo-0125\",\n",
      "      \"ready\": true,\n",
      "      \"owner\": \"system\",\n",
      "      \"permissions\": null,\n",
      "      \"created\": null\n",
      "    },\n",
      "    {\n",
      "      \"object\": \"engine\",\n",
      "      \"id\": \"tts-1\",\n",
      "      \"ready\": true,\n",
      "      \"owner\": \"openai-internal\",\n",
      "      \"permissions\": null,\n",
      "      \"created\": null\n",
      "    },\n",
      "    {\n",
      "      \"object\": \"engine\",\n",
      "      \"id\": \"gpt-3.5-turbo-1106\",\n",
      "      \"ready\": true,\n",
      "      \"owner\": \"system\",\n",
      "      \"permissions\": null,\n",
      "      \"created\": null\n",
      "    },\n",
      "    {\n",
      "      \"object\": \"engine\",\n",
      "      \"id\": \"gpt-4o-mini-2024-07-18\",\n",
      "      \"ready\": true,\n",
      "      \"owner\": \"system\",\n",
      "      \"permissions\": null,\n",
      "      \"created\": null\n",
      "    },\n",
      "    {\n",
      "      \"object\": \"engine\",\n",
      "      \"id\": \"gpt-4o-mini\",\n",
      "      \"ready\": true,\n",
      "      \"owner\": \"system\",\n",
      "      \"permissions\": null,\n",
      "      \"created\": null\n",
      "    }\n",
      "  ]\n",
      "}\n"
     ]
    }
   ],
   "source": [
    "engines = openai.Engine.list()\n",
    "print(engines)"
   ]
  },
  {
   "cell_type": "code",
   "execution_count": 13,
   "id": "eb483584-6722-4aa7-ab4e-8a5b1deaf608",
   "metadata": {
    "ExecuteTime": {
     "end_time": "2024-07-26T13:20:25.809776200Z",
     "start_time": "2024-07-26T13:20:25.794137800Z"
    }
   },
   "outputs": [],
   "source": [
    "responses = pickle.load( open(\"../data/pickle/davinci_pairs2.pkl\", \"rb\" ))"
   ]
  },
  {
   "cell_type": "code",
   "execution_count": 14,
   "id": "33c7c10f-5663-46c7-af40-2a31af33e860",
   "metadata": {
    "ExecuteTime": {
     "end_time": "2024-07-26T13:20:27.591568800Z",
     "start_time": "2024-07-26T13:20:27.579605500Z"
    }
   },
   "outputs": [
    {
     "data": {
      "text/plain": "200"
     },
     "execution_count": 14,
     "metadata": {},
     "output_type": "execute_result"
    }
   ],
   "source": [
    "len(responses)"
   ]
  },
  {
   "cell_type": "code",
   "execution_count": 15,
   "id": "0f9964e5-74ee-4668-8295-91bd4b9120b2",
   "metadata": {
    "ExecuteTime": {
     "end_time": "2024-07-26T13:20:39.645769300Z",
     "start_time": "2024-07-26T13:20:39.627643700Z"
    }
   },
   "outputs": [
    {
     "name": "stdout",
     "output_type": "stream",
     "text": [
      "This is a packet summary:\n",
      "192.168.1.194 → 192.168.1.190 ICMP 100 Echo (ping) request id=0x9015, seq=18917\n",
      "This is the python code to generate the packet:\n",
      "scapy.IP(src=\"192.168.1.194\", dst=\"192.168.1.190\")/scapy.ICMP(type=8, id=0x9015, seq=18917)\n",
      "\n",
      "This is a packet summary:\n",
      "192.168.1.190 → 192.168.1.152 DNS 193 Standard query response 0x0971 No such name AAAA a2z3kk2ebqzso7.iot.ap-southeast-2.amazonaws.com SOA ns-1926.awsdns-48.co.uk\n",
      "This is the python code to generate the packet:\n",
      "IP(src=\"192.168.1.190\", dst=\"192.168.1.152\")/DNS(id=0x0971, qr=1, opcode=0, rcode=3, qdcount=1, ancount=0, nscount=0, arcount=0, qd=DNSQR(qname=\"a2z3kk2ebqzso7.iot.ap-southeast-2.amazonaws.com\", qtype=\"SOA\", qclass=\"IN\"))\n",
      "\n",
      "These are the packet summaries:\n",
      "192.168.1.194 → 192.168.1.190 ICMP 100 Echo (ping) request id=0x9015, seq=19032\n",
      "192.168.1.152 → 192.168.1.190 DNS 109 Standard query 0x7184 A a2z3kk2ebqzso7.iot.ap-southeast-2.amazonaws.com\n",
      "192.168.1.190 → 192.168.1.192 ICMP 100 Echo (ping) reply id=0x112d, seq=6482\n",
      "192.168.1.194 → 192.168.1.190 ICMP 100 Echo (ping) request id=0x9015, seq=19575\n",
      "192.168.1.194 → 192.168.1.190 ICMP 100 Echo (ping) request id=0x9015, seq=19029\n",
      "\n",
      "Generate python code for creating these packets with scapy framework and put them all in a list named pkt_list.\n"
     ]
    }
   ],
   "source": [
    "for i in range(1):\n",
    "    summaries = random.choices(packets_summary,k=packets_per_request)\n",
    "    query = \"This is a packet summary:\\n\"\n",
    "    query += \"192.168.1.194 → 192.168.1.190 ICMP 100 Echo (ping) request id=0x9015, seq=18917\\n\"\n",
    "    query += \"This is the python code to generate the packet:\\n\"\n",
    "    query += 'scapy.IP(src=\"192.168.1.194\", dst=\"192.168.1.190\")/scapy.ICMP(type=8, id=0x9015, seq=18917)\\n\\n'\n",
    "    query += \"This is a packet summary:\\n\"\n",
    "    query += \"192.168.1.190 → 192.168.1.152 DNS 193 Standard query response 0x0971 No such name AAAA a2z3kk2ebqzso7.iot.ap-southeast-2.amazonaws.com SOA ns-1926.awsdns-48.co.uk\\n\"\n",
    "    query += \"This is the python code to generate the packet:\\n\"\n",
    "    query += 'IP(src=\"192.168.1.190\", dst=\"192.168.1.152\")/DNS(id=0x0971, qr=1, opcode=0, rcode=3, qdcount=1, ancount=0, nscount=0, arcount=0, qd=DNSQR(qname=\"a2z3kk2ebqzso7.iot.ap-southeast-2.amazonaws.com\", qtype=\"SOA\", qclass=\"IN\"))\\n\\n'\n",
    "\n",
    "    query += \"These are the packet summaries:\\n\"\n",
    "    text_sum = \"\"\n",
    "    for summary in summaries:\n",
    "        query += summary + \"\\n\"\n",
    "        text_sum += summary + \"\\n\"\n",
    "\n",
    "    query += \"\\nGenerate python code for creating these packets with scapy framework and put them all in a list named pkt_list.\"\n",
    "\n",
    "    print(query)\n",
    "    break\n",
    "    \n",
    "    completion = openai.Completion.create(engine=\"text-davinci-003\", prompt=query,max_tokens=2600,temperature=0.1)\n",
    "    completion[\"prompt_summary\"] = text_sum\n",
    "    responses.append(completion)\n",
    "    # responses即text-davinci-003生成的scapy代码\n",
    "    #print(responses[-1].choices[0].text)\n",
    "    \n",
    "    exec(responses[-1].choices[0].text)\n",
    "    # pickle用于序列化数据，文件格式是pkl\n",
    "    pickle.dump(responses, open( \"../data/pickle/davinci_pairs2.pkl\", \"wb\" ) )\n",
    "    print(len(responses))\n"
   ]
  },
  {
   "cell_type": "code",
   "execution_count": 17,
   "outputs": [
    {
     "name": "stdout",
     "output_type": "stream",
     "text": [
      "\n",
      "\n",
      "pkt_list = [scapy.IP(src=\"192.168.1.192\", dst=\"192.168.1.190\")/scapy.ICMP(type=8, id=0x112d, seq=6152),\n",
      "            scapy.IP(src=\"192.168.1.190\", dst=\"192.168.1.193\")/scapy.ICMP(type=0, id=0x0001, seq=4602),\n",
      "            scapy.IP(src=\"192.168.1.190\", dst=\"192.168.1.192\")/scapy.ICMP(type=0, id=0x112d, seq=6295),\n",
      "            scapy.IP(src=\"192.168.1.152\", dst=\"192.168.1.190\")/DNS(id=0x7e4a, qr=0, opcode=0, rcode=0, qdcount=1, ancount=0, nscount=0, arcount=0, qd=DNSQR(qname=\"a2z3kk2ebqzso7.iot.ap-southeast-2.amazonaws.com\", qtype=\"AAAA\", qclass=\"IN\")),\n",
      "            scapy.IP(src=\"192.168.1.190\", dst=\"192.168.1.194\")/scapy.ICMP(type=0, id=0x9015, seq=18619)]\n"
     ]
    }
   ],
   "source": [
    "print(responses[-1].choices[0].text)"
   ],
   "metadata": {
    "collapsed": false,
    "ExecuteTime": {
     "end_time": "2024-07-26T13:22:51.142300300Z",
     "start_time": "2024-07-26T13:22:51.131082100Z"
    }
   }
  },
  {
   "cell_type": "code",
   "execution_count": 16,
   "id": "bd8bb17f-6a7b-4520-90b2-9d3a55737eac",
   "metadata": {
    "ExecuteTime": {
     "end_time": "2024-07-26T13:22:37.178349Z",
     "start_time": "2024-07-26T13:22:37.154102900Z"
    }
   },
   "outputs": [
    {
     "name": "stdout",
     "output_type": "stream",
     "text": [
      "[<IP  frag=0 proto=icmp src=192.168.1.192 dst=192.168.1.190 |<ICMP  type=echo-request id=0x112d seq=0x1808 |>>, <IP  frag=0 proto=icmp src=192.168.1.190 dst=192.168.1.193 |<ICMP  type=echo-reply id=0x1 seq=0x11fa |>>, <IP  frag=0 proto=icmp src=192.168.1.190 dst=192.168.1.192 |<ICMP  type=echo-reply id=0x112d seq=0x1897 |>>, <IP  src=192.168.1.152 dst=192.168.1.190 |<DNS  id=32330 qr=0 opcode=QUERY rcode=ok qdcount=1 ancount=0 nscount=0 arcount=0 qd=<DNSQR  qname='a2z3kk2ebqzso7.iot.ap-southeast-2.amazonaws.com' qtype=AAAA qclass=IN |> |>>, <IP  frag=0 proto=icmp src=192.168.1.190 dst=192.168.1.194 |<ICMP  type=echo-reply id=0x9015 seq=0x48bb |>>]\n"
     ]
    }
   ],
   "source": [
    "exec(responses[-1].choices[0].text)\n",
    "print(pkt_list)"
   ]
  },
  {
   "cell_type": "code",
   "execution_count": 18,
   "id": "31f2709a-8b38-4d83-8420-1712fb6a6471",
   "metadata": {
    "ExecuteTime": {
     "end_time": "2024-07-26T13:22:57.741779Z",
     "start_time": "2024-07-26T13:22:57.715692400Z"
    }
   },
   "outputs": [
    {
     "name": "stdout",
     "output_type": "stream",
     "text": [
      "192.168.1.192 → 192.168.1.190 ICMP 100 Echo (ping) request id=0x112d, seq=6152\n",
      "192.168.1.190 → 192.168.1.193 ICMP 76 Echo (ping) reply id=0x0001, seq=4602\n",
      "192.168.1.190 → 192.168.1.192 ICMP 100 Echo (ping) reply id=0x112d, seq=6295\n",
      "192.168.1.152 → 192.168.1.190 DNS 109 Standard query 0x7e4a AAAA a2z3kk2ebqzso7.iot.ap-southeast-2.amazonaws.com\n",
      "192.168.1.190 → 192.168.1.194 ICMP 100 Echo (ping) reply id=0x9015, seq=18619\n",
      "\n",
      "\n",
      "\n",
      "pkt_list = [scapy.IP(src=\"192.168.1.192\", dst=\"192.168.1.190\")/scapy.ICMP(type=8, id=0x112d, seq=6152),\n",
      "            scapy.IP(src=\"192.168.1.190\", dst=\"192.168.1.193\")/scapy.ICMP(type=0, id=0x0001, seq=4602),\n",
      "            scapy.IP(src=\"192.168.1.190\", dst=\"192.168.1.192\")/scapy.ICMP(type=0, id=0x112d, seq=6295),\n",
      "            scapy.IP(src=\"192.168.1.152\", dst=\"192.168.1.190\")/DNS(id=0x7e4a, qr=0, opcode=0, rcode=0, qdcount=1, ancount=0, nscount=0, arcount=0, qd=DNSQR(qname=\"a2z3kk2ebqzso7.iot.ap-southeast-2.amazonaws.com\", qtype=\"AAAA\", qclass=\"IN\")),\n",
      "            scapy.IP(src=\"192.168.1.190\", dst=\"192.168.1.194\")/scapy.ICMP(type=0, id=0x9015, seq=18619)]\n"
     ]
    }
   ],
   "source": [
    "print(responses[-1].prompt_summary)\n",
    "print(responses[-1].choices[0].text)"
   ]
  },
  {
   "cell_type": "code",
   "execution_count": 19,
   "id": "21a0bc16-9c1d-43f2-8380-23060cb8b6c9",
   "metadata": {
    "ExecuteTime": {
     "end_time": "2024-07-26T13:23:03.796185900Z",
     "start_time": "2024-07-26T13:23:03.785165400Z"
    }
   },
   "outputs": [],
   "source": [
    "pickle.dump(responses, open( \"../data/pickle/davinci_pairs2.pkl\", \"wb\" ) )"
   ]
  },
  {
   "cell_type": "code",
   "execution_count": 20,
   "id": "9bb88436-91c5-40a7-86fc-d540dbbb71c1",
   "metadata": {
    "ExecuteTime": {
     "end_time": "2024-07-26T13:23:08.711145600Z",
     "start_time": "2024-07-26T13:23:08.699688800Z"
    }
   },
   "outputs": [],
   "source": [
    "fixed_text = \"\"\"\n",
    "\n",
    "pkt_list = [scapy.IP(src=\"192.168.1.152\", dst=\"192.168.1.190\")/scapy.DNS(id=0x8d29, qr=0, opcode=0, rcode=0, qdcount=1, ancount=0, nscount=0, arcount=0, qd=DNSQR(qname=\"a2z3kk2ebqzso7.iot.ap-southeast-2.amazonaws.com\", qtype=\"A\", qclass=\"IN\")),\n",
    "            scapy.IP(src=\"192.168.1.193\", dst=\"192.168.1.190\")/scapy.ICMP(type=8, id=0x0001, seq=5456),\n",
    "            scapy.IP(src=\"192.168.1.190\", dst=\"192.168.1.192\")/scapy.ICMP(type=0, id=0x112d, seq=5469),\n",
    "            scapy.IP(src=\"192.168.1.190\", dst=\"192.168.1.192\")/scapy.ICMP(type=0, id=0x112d, seq=6133),\n",
    "            scapy.IP(src=\"192.168.1.190\", dst=\"192.168.1.194\")/scapy.ICMP(type=0, id=0x9015, seq=19453)]\n",
    "\"\"\"\n",
    "\n"
   ]
  },
  {
   "cell_type": "code",
   "execution_count": 21,
   "id": "0593a80a-1e9e-42bb-86d7-c0c806133bed",
   "metadata": {
    "ExecuteTime": {
     "end_time": "2024-07-26T13:23:12.213883700Z",
     "start_time": "2024-07-26T13:23:12.205866200Z"
    }
   },
   "outputs": [],
   "source": [
    "exec(fixed_text)"
   ]
  },
  {
   "cell_type": "code",
   "execution_count": 22,
   "id": "8aef95a7-f3ef-404f-a8fe-d95477263888",
   "metadata": {
    "ExecuteTime": {
     "end_time": "2024-07-26T13:23:14.567317500Z",
     "start_time": "2024-07-26T13:23:14.544643200Z"
    }
   },
   "outputs": [
    {
     "data": {
      "text/plain": "[<IP  src=192.168.1.152 dst=192.168.1.190 |<DNS  id=36137 qr=0 opcode=QUERY rcode=ok qdcount=1 ancount=0 nscount=0 arcount=0 qd=<DNSQR  qname='a2z3kk2ebqzso7.iot.ap-southeast-2.amazonaws.com' qtype=A qclass=IN |> |>>,\n <IP  frag=0 proto=icmp src=192.168.1.193 dst=192.168.1.190 |<ICMP  type=echo-request id=0x1 seq=0x1550 |>>,\n <IP  frag=0 proto=icmp src=192.168.1.190 dst=192.168.1.192 |<ICMP  type=echo-reply id=0x112d seq=0x155d |>>,\n <IP  frag=0 proto=icmp src=192.168.1.190 dst=192.168.1.192 |<ICMP  type=echo-reply id=0x112d seq=0x17f5 |>>,\n <IP  frag=0 proto=icmp src=192.168.1.190 dst=192.168.1.194 |<ICMP  type=echo-reply id=0x9015 seq=0x4bfd |>>]"
     },
     "execution_count": 22,
     "metadata": {},
     "output_type": "execute_result"
    }
   ],
   "source": [
    "pkt_list"
   ]
  },
  {
   "cell_type": "code",
   "execution_count": 23,
   "id": "36835b6f-9fa5-4cf8-a8a8-aa5de226066d",
   "metadata": {
    "ExecuteTime": {
     "end_time": "2024-07-26T13:23:18.341877400Z",
     "start_time": "2024-07-26T13:23:18.327737500Z"
    }
   },
   "outputs": [],
   "source": [
    "responses[-1].choices[0].text = fixed_text"
   ]
  },
  {
   "cell_type": "code",
   "execution_count": 24,
   "id": "d994762f-2ebe-453f-8b8e-d2c601db1bba",
   "metadata": {
    "ExecuteTime": {
     "end_time": "2024-07-26T13:23:20.406252400Z",
     "start_time": "2024-07-26T13:23:20.391304700Z"
    }
   },
   "outputs": [
    {
     "name": "stdout",
     "output_type": "stream",
     "text": [
      "192.168.1.192 → 192.168.1.190 ICMP 100 Echo (ping) request id=0x112d, seq=6152\n",
      "192.168.1.190 → 192.168.1.193 ICMP 76 Echo (ping) reply id=0x0001, seq=4602\n",
      "192.168.1.190 → 192.168.1.192 ICMP 100 Echo (ping) reply id=0x112d, seq=6295\n",
      "192.168.1.152 → 192.168.1.190 DNS 109 Standard query 0x7e4a AAAA a2z3kk2ebqzso7.iot.ap-southeast-2.amazonaws.com\n",
      "192.168.1.190 → 192.168.1.194 ICMP 100 Echo (ping) reply id=0x9015, seq=18619\n",
      "\n",
      "\n",
      "\n",
      "pkt_list = [scapy.IP(src=\"192.168.1.152\", dst=\"192.168.1.190\")/scapy.DNS(id=0x8d29, qr=0, opcode=0, rcode=0, qdcount=1, ancount=0, nscount=0, arcount=0, qd=DNSQR(qname=\"a2z3kk2ebqzso7.iot.ap-southeast-2.amazonaws.com\", qtype=\"A\", qclass=\"IN\")),\n",
      "            scapy.IP(src=\"192.168.1.193\", dst=\"192.168.1.190\")/scapy.ICMP(type=8, id=0x0001, seq=5456),\n",
      "            scapy.IP(src=\"192.168.1.190\", dst=\"192.168.1.192\")/scapy.ICMP(type=0, id=0x112d, seq=5469),\n",
      "            scapy.IP(src=\"192.168.1.190\", dst=\"192.168.1.192\")/scapy.ICMP(type=0, id=0x112d, seq=6133),\n",
      "            scapy.IP(src=\"192.168.1.190\", dst=\"192.168.1.194\")/scapy.ICMP(type=0, id=0x9015, seq=19453)]\n",
      "\n"
     ]
    }
   ],
   "source": [
    "print(responses[-1].prompt_summary)\n",
    "print(responses[-1].choices[0].text)"
   ]
  },
  {
   "cell_type": "code",
   "execution_count": 25,
   "id": "9bb3a5ba-9651-477a-b0e4-b5869e204fe2",
   "metadata": {
    "ExecuteTime": {
     "end_time": "2024-07-26T13:23:25.939058300Z",
     "start_time": "2024-07-26T13:23:25.926457800Z"
    }
   },
   "outputs": [],
   "source": [
    "del responses[-1]"
   ]
  },
  {
   "cell_type": "code",
   "execution_count": 26,
   "id": "9323cfbe-0e28-4fb3-806c-0b162516024b",
   "metadata": {
    "ExecuteTime": {
     "end_time": "2024-07-26T13:23:27.019709400Z",
     "start_time": "2024-07-26T13:23:27.001683Z"
    }
   },
   "outputs": [],
   "source": [
    "\n",
    "pkt_list = []\n",
    "\n",
    "pkt_list.append(scapy.IP(src=\"192.168.1.190\", dst=\"192.168.1.193\")/scapy.ICMP(type=76, id=0x0001, seq=4091))\n",
    "\n",
    "pkt_list.append(scapy.IP(src=\"192.168.1.194\", dst=\"192.168.1.190\")/scapy.ICMP(type=100, id=0x9015, seq=18476))\n",
    "\n",
    "pkt_list.append(scapy.IP(src=\"192.168.1.192\", dst=\"192.168.1.190\")/scapy.ICMP(type=100, id=0x112d, seq=5799))\n",
    "\n",
    "pkt_list.append(scapy.IP(src=\"192.168.1.194\", dst=\"192.168.1.190\")/scapy.ICMP(type=100, id=0x9015, seq=19355))\n",
    "\n",
    "pkt_list.append(scapy.IP(src=\"192.168.1.193\", dst=\"192.168.1.190\")/scapy.ICMP(type=76, id=0x0001, seq=4322))\n",
    "\n",
    "pkt_list.append(scapy.IP(src=\"192.168.1.192\", dst=\"192.168.1.190\")/scapy.ICMP(type=100, id=0x112d, seq=5804))\n",
    "\n",
    "pkt_list.append(scapy.IP(src=\"192.168.1.190\", dst=\"192.168.1.194\")/scapy.ICMP(type=100, id=0x9015, seq=19228))\n",
    "\n",
    "pkt_list.append(scapy.IP(src=\"192.168.1.190\", dst=\"192.168.1.194\")/scapy.ICMP(type=100, id=0x9015, seq=19718))\n",
    "\n",
    "pkt_list.append(scapy.IP(src=\"192.168.1.193\", dst=\"192.168.1.190\")/scapy.ICMP(type=76, id=0x0001, seq=5336))"
   ]
  },
  {
   "cell_type": "code",
   "execution_count": 27,
   "id": "f33b0c49-5d12-4392-b76b-f66a1c41be20",
   "metadata": {
    "ExecuteTime": {
     "end_time": "2024-07-26T13:23:29.699619600Z",
     "start_time": "2024-07-26T13:23:29.685091Z"
    }
   },
   "outputs": [],
   "source": [
    "with open(\"../data/pcapgenerated_curie_commands.pcap\", \"wb\") as f:\n",
    "    wrpcap(f, pkt_list)"
   ]
  },
  {
   "cell_type": "code",
   "execution_count": 28,
   "id": "6cc2d0dd-f878-4dea-9607-dd5991b70735",
   "metadata": {
    "ExecuteTime": {
     "end_time": "2024-07-26T13:23:30.668776Z",
     "start_time": "2024-07-26T13:23:30.649353300Z"
    }
   },
   "outputs": [
    {
     "name": "stdout",
     "output_type": "stream",
     "text": [
      "{\n",
      "  \"id\": \"cmpl-6oqdZkXJZj4oXycbtlpbzYMv4Jzfz\",\n",
      "  \"object\": \"text_completion\",\n",
      "  \"created\": 1677576757,\n",
      "  \"model\": \"text-davinci-003\",\n",
      "  \"choices\": [\n",
      "    {\n",
      "      \"text\": \"\\n\\npkt_list = [scapy.IP(src=\\\"192.168.1.192\\\", dst=\\\"192.168.1.190\\\")/scapy.ICMP(type=8, id=0x112d, seq=5619),\\n            scapy.IP(src=\\\"192.168.1.194\\\", dst=\\\"192.168.1.190\\\")/scapy.ICMP(type=8, id=0x9015, seq=19673),\\n            scapy.IP(src=\\\"192.168.1.194\\\", dst=\\\"192.168.1.190\\\")/scapy.ICMP(type=8, id=0x9015, seq=18836),\\n            scapy.IP(src=\\\"192.168.1.190\\\", dst=\\\"192.168.1.193\\\")/scapy.ICMP(type=0, id=0x0001, seq=4886),\\n            scapy.IP(src=\\\"192.168.1.190\\\", dst=\\\"192.168.1.193\\\")/scapy.ICMP(type=0, id=0x0001, seq=4305)]\",\n",
      "      \"index\": 0,\n",
      "      \"logprobs\": null,\n",
      "      \"finish_reason\": \"stop\"\n",
      "    }\n",
      "  ],\n",
      "  \"usage\": {\n",
      "    \"prompt_tokens\": 519,\n",
      "    \"completion_tokens\": 254,\n",
      "    \"total_tokens\": 773\n",
      "  },\n",
      "  \"prompt_summary\": \"192.168.1.192 \\u2192 192.168.1.190 ICMP 100 Echo (ping) request id=0x112d, seq=5619\\n192.168.1.194 \\u2192 192.168.1.190 ICMP 100 Echo (ping) request id=0x9015, seq=19673\\n192.168.1.194 \\u2192 192.168.1.190 ICMP 100 Echo (ping) request id=0x9015, seq=18836\\n192.168.1.190 \\u2192 192.168.1.193 ICMP 76 Echo (ping) reply id=0x0001, seq=4886\\n192.168.1.190 \\u2192 192.168.1.193 ICMP 76 Echo (ping) reply id=0x0001, seq=4305\\n\"\n",
      "}\n"
     ]
    }
   ],
   "source": [
    "print(responses[0])"
   ]
  },
  {
   "cell_type": "code",
   "execution_count": null,
   "id": "91a6d790-25f0-4413-b862-a1035c82a0c7",
   "metadata": {},
   "outputs": [],
   "source": []
  }
 ],
 "metadata": {
  "kernelspec": {
   "display_name": "Python 3 (ipykernel)",
   "language": "python",
   "name": "python3"
  },
  "language_info": {
   "codemirror_mode": {
    "name": "ipython",
    "version": 3
   },
   "file_extension": ".py",
   "mimetype": "text/x-python",
   "name": "python",
   "nbconvert_exporter": "python",
   "pygments_lexer": "ipython3",
   "version": "3.10.6"
  }
 },
 "nbformat": 4,
 "nbformat_minor": 5
}
