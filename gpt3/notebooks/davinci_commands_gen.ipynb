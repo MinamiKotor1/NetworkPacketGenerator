{
 "cells": [
  {
   "cell_type": "code",
   "execution_count": 12,
   "id": "d8ab9384-bfd6-4e54-be3a-3bbb87fc4360",
   "metadata": {},
   "outputs": [],
   "source": [
    "import random\n",
    "import re\n",
    "import pickle\n",
    "\n",
    "import openai\n",
    "\n",
    "from scapy.all import *\n",
    "from scapy.utils import RawPcapReader, wrpcap\n",
    "\n",
    "from scapy.layers.l2 import Ether\n",
    "from scapy.layers.inet import IP, TCP, ICMP"
   ]
  },
  {
   "cell_type": "code",
   "execution_count": 3,
   "id": "13c8bff7-218b-4916-8e91-663ddedddf8e",
   "metadata": {},
   "outputs": [],
   "source": [
    "packets_per_request = 10"
   ]
  },
  {
   "cell_type": "code",
   "execution_count": 4,
   "id": "46f766e4-a85a-44f8-8d70-d10e4e3794bc",
   "metadata": {},
   "outputs": [],
   "source": [
    "with open(\"../data/text/three_summaries.txt\",\"r\") as f:\n",
    "    packets_summary = f.read().splitlines()"
   ]
  },
  {
   "cell_type": "code",
   "execution_count": 5,
   "id": "d69ba537-d564-4e77-9ff0-371700f15130",
   "metadata": {},
   "outputs": [
    {
     "data": {
      "text/plain": [
       "9999"
      ]
     },
     "execution_count": 5,
     "metadata": {},
     "output_type": "execute_result"
    }
   ],
   "source": [
    "len(packets_summary)"
   ]
  },
  {
   "cell_type": "code",
   "execution_count": 6,
   "id": "78f7dd84-bc5e-430a-b760-bb0cda6bb733",
   "metadata": {},
   "outputs": [],
   "source": [
    "engines = openai.Engine.list()\n"
   ]
  },
  {
   "cell_type": "code",
   "execution_count": 13,
   "id": "eb483584-6722-4aa7-ab4e-8a5b1deaf608",
   "metadata": {},
   "outputs": [],
   "source": [
    "responses = []\n"
   ]
  },
  {
   "cell_type": "code",
   "execution_count": 15,
   "id": "0f9964e5-74ee-4668-8295-91bd4b9120b2",
   "metadata": {},
   "outputs": [
    {
     "name": "stdout",
     "output_type": "stream",
     "text": [
      "These are the packet summaries:\n",
      "192.168.1.194 → 192.168.1.190 ICMP 100 Echo (ping) request id=0x9015, seq=19751\n",
      "192.168.1.192 → 192.168.1.190 ICMP 100 Echo (ping) request id=0x112d, seq=6495\n",
      "192.168.1.194 → 192.168.1.190 ICMP 100 Echo (ping) request id=0x9015, seq=18943\n",
      "192.168.1.190 → 192.168.1.193 ICMP 76 Echo (ping) reply id=0x0001, seq=4168\n",
      "192.168.1.192 → 192.168.1.190 ICMP 100 Echo (ping) request id=0x112d, seq=6217\n",
      "192.168.1.194 → 192.168.1.190 ICMP 100 Echo (ping) request id=0x9015, seq=19951\n",
      "192.168.1.194 → 192.168.1.190 ICMP 100 Echo (ping) request id=0x9015, seq=18466\n",
      "192.168.1.190 → 192.168.1.194 ICMP 100 Echo (ping) reply id=0x9015, seq=18842\n",
      "192.168.1.193 → 192.168.1.190 ICMP 76 Echo (ping) request id=0x0001, seq=4612\n",
      "192.168.1.190 → 192.168.1.194 ICMP 100 Echo (ping) reply id=0x9015, seq=19005\n",
      "\n",
      "Generate python code for creating these packets with Scapy framework and put them all in a list named pkt_list.\n"
     ]
    }
   ],
   "source": [
    "summaries = random.choices(packets_summary,k=packets_per_request)\n",
    "query = \"These are the packet summaries:\\n\"\n",
    "for summary in summaries:\n",
    "    query += summary + \"\\n\"\n",
    "    \n",
    "query += \"\\nGenerate python code for creating these packets with Scapy framework and put them all in a list named pkt_list.\"\n",
    "    \n",
    "print(query)\n",
    "    \n",
    "completion = openai.Completion.create(engine=\"text-davinci-003\", prompt=query,max_tokens=2600)\n",
    "completion[\"prompt_summary\"] = summary\n",
    "responses.append(completion)\n",
    "\n",
    "print(responses[-1].choices[0].text)"
   ]
  },
  {
   "cell_type": "code",
   "execution_count": 16,
   "id": "d004a45f-5246-4b57-8731-ad5fed659106",
   "metadata": {
    "tags": []
   },
   "outputs": [
    {
     "name": "stdout",
     "output_type": "stream",
     "text": [
      "\n",
      "\n",
      "pkt_list = [\n",
      "    sr1(IP(src='192.168.1.194', dst='192.168.1.190')/ICMP(id=0x9015, seq=19751, type='echo-request'), timeout=1, verbose=0),\n",
      "    sr1(IP(src='192.168.1.192', dst='192.168.1.190')/ICMP(id=0x112d, seq=6495, type='echo-request'), timeout=1, verbose=0),\n",
      "    sr1(IP(src='192.168.1.194', dst='192.168.1.190')/ICMP(id=0x9015, seq=18943, type='echo-request'), timeout=1, verbose=0),\n",
      "    sr1(IP(src='192.168.1.190', dst='192.168.1.193')/ICMP(id=0x0001, seq=4168, type='echo-reply':, timeout=1, verbose=0),\n",
      "    sr1(IP(src='192.168.1.192', dst='192.168.1.190')/ICMP(id=0x112d, seq=6217, type='echo-request'), timeout=1, verbose=0),\n",
      "    sr1(IP(src='192.168.1.194', dst='192.168.1.190')/ICMP(id=0x9015, seq=19951, type='echo-request'), timeout=1, verbose=0),\n",
      "    sr1(IP(src='192.168.1.194', dst='192.168.1.190')/ICMP(id=0x9015, seq=18466, type='echo-request'), timeout=1, verbose=0),\n",
      "    sr1(IP(src='192.168.1.190', dst='192.168.1.194')/ICMP(id=0x9015, seq=18842, type='echo-reply':, timeout=1, verbose=0),\n",
      "    sr1(IP(src='192.168.1.193', dst='192.168.1.190')/ICMP(id=0x0001, seq=4612, type='echo-request'), timeout=1, verbose=0),\n",
      "    sr1(IP(src='192.168.1.190', dst='192.168.1.194')/ICMP(id=0x9015, seq=19005, type='echo-reply'), timeout=1, verbose=0)\n",
      "]\n"
     ]
    }
   ],
   "source": [
    "print(responses[-1].choices[0].text)"
   ]
  },
  {
   "cell_type": "code",
   "execution_count": 17,
   "id": "bd8bb17f-6a7b-4520-90b2-9d3a55737eac",
   "metadata": {},
   "outputs": [
    {
     "ename": "SyntaxError",
     "evalue": "closing parenthesis ']' does not match opening parenthesis '(' on line 11 (<string>, line 14)",
     "output_type": "error",
     "traceback": [
      "Traceback \u001b[0;36m(most recent call last)\u001b[0m:\n",
      "  File \u001b[1;32m~/.local/lib/python3.10/site-packages/IPython/core/interactiveshell.py:3398\u001b[0m in \u001b[1;35mrun_code\u001b[0m\n    exec(code_obj, self.user_global_ns, self.user_ns)\n",
      "\u001b[0;36m  Input \u001b[0;32mIn [17]\u001b[0;36m in \u001b[0;35m<cell line: 1>\u001b[0;36m\u001b[0m\n\u001b[0;31m    exec(responses[-1].choices[0].text)\u001b[0m\n",
      "\u001b[0;36m  File \u001b[0;32m<string>:14\u001b[0;36m\u001b[0m\n\u001b[0;31m    ]\u001b[0m\n\u001b[0m    ^\u001b[0m\n\u001b[0;31mSyntaxError\u001b[0m\u001b[0;31m:\u001b[0m closing parenthesis ']' does not match opening parenthesis '(' on line 11\n"
     ]
    }
   ],
   "source": [
    "exec(responses[-1].choices[0].text)"
   ]
  },
  {
   "cell_type": "code",
   "execution_count": 21,
   "id": "824e7b61-35c8-4cb0-8d3f-34adbf1d89f2",
   "metadata": {},
   "outputs": [
    {
     "data": {
      "text/plain": [
       "[<IP  frag=0 proto=icmp src=76.76.2.0 dst=130.231.202.234 |<ICMP  type=echo-reply id=0x5 seq=0x5d |>>,\n",
       " <IP  frag=0 proto=icmp src=76.76.2.0 dst=130.231.202.234 |<ICMP  type=echo-reply id=0x5 seq=0xc |>>,\n",
       " <IP  frag=0 proto=icmp src=130.231.202.234 dst=9.9.9.9 |<ICMP  type=echo-request id=0x4 seq=0x1f |>>,\n",
       " <IP  frag=0 proto=icmp src=4.2.2.4 dst=130.231.202.234 |<ICMP  type=echo-reply id=0x3 seq=0x8e |>>,\n",
       " <IP  frag=0 proto=icmp src=130.231.202.234 dst=4.2.2.4 |<ICMP  type=echo-request id=0x3 seq=0x53 |>>,\n",
       " <IP  frag=0 proto=icmp src=130.231.202.234 dst=4.2.2.4 |<ICMP  type=echo-request id=0x3 seq=0x82 |>>,\n",
       " <IP  frag=0 proto=icmp src=8.8.8.8 dst=130.231.202.234 |<ICMP  type=echo-reply id=0x2 seq=0x7c |>>,\n",
       " <IP  frag=0 proto=icmp src=8.8.8.8 dst=130.231.202.234 |<ICMP  type=echo-reply id=0x2 seq=0x115 |>>,\n",
       " <IP  frag=0 proto=icmp src=9.9.9.9 dst=130.231.202.234 |<ICMP  type=echo-reply id=0x4 seq=0x60 |>>,\n",
       " <IP  frag=0 proto=icmp src=8.8.8.8 dst=130.231.202.234 |<ICMP  type=echo-reply id=0x2 seq=0x10e |>>]"
      ]
     },
     "execution_count": 21,
     "metadata": {},
     "output_type": "execute_result"
    }
   ],
   "source": [
    "pkt_list"
   ]
  },
  {
   "cell_type": "code",
   "execution_count": null,
   "id": "21a0bc16-9c1d-43f2-8380-23060cb8b6c9",
   "metadata": {},
   "outputs": [],
   "source": [
    "pickle.dump(responses, open( \"../data/pickle/davinci_pairs.pkl\", \"wb\" ) )"
   ]
  }
 ],
 "metadata": {
  "kernelspec": {
   "display_name": "Python 3 (ipykernel)",
   "language": "python",
   "name": "python3"
  },
  "language_info": {
   "codemirror_mode": {
    "name": "ipython",
    "version": 3
   },
   "file_extension": ".py",
   "mimetype": "text/x-python",
   "name": "python",
   "nbconvert_exporter": "python",
   "pygments_lexer": "ipython3",
   "version": "3.10.6"
  }
 },
 "nbformat": 4,
 "nbformat_minor": 5
}
