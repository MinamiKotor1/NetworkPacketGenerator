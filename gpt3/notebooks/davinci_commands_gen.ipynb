{
 "cells": [
  {
   "cell_type": "code",
   "execution_count": 1,
   "id": "d8ab9384-bfd6-4e54-be3a-3bbb87fc4360",
   "metadata": {},
   "outputs": [],
   "source": [
    "import random\n",
    "import re\n",
    "import pickle\n",
    "\n",
    "import openai\n",
    "\n",
    "from scapy.all import *\n",
    "from scapy.utils import RawPcapReader, wrpcap\n",
    "import scapy.all as scapy\n",
    "\n",
    "from scapy.layers.l2 import Ether\n",
    "from scapy.layers.inet import IP, TCP, ICMP"
   ]
  },
  {
   "cell_type": "code",
   "execution_count": 2,
   "id": "13c8bff7-218b-4916-8e91-663ddedddf8e",
   "metadata": {},
   "outputs": [],
   "source": [
    "packets_per_request = 10"
   ]
  },
  {
   "cell_type": "code",
   "execution_count": 3,
   "id": "46f766e4-a85a-44f8-8d70-d10e4e3794bc",
   "metadata": {},
   "outputs": [],
   "source": [
    "with open(\"../data/text/three_summaries.txt\",\"r\") as f:\n",
    "    packets_summary = f.read().splitlines()"
   ]
  },
  {
   "cell_type": "code",
   "execution_count": 4,
   "id": "d69ba537-d564-4e77-9ff0-371700f15130",
   "metadata": {},
   "outputs": [
    {
     "data": {
      "text/plain": [
       "9999"
      ]
     },
     "execution_count": 4,
     "metadata": {},
     "output_type": "execute_result"
    }
   ],
   "source": [
    "len(packets_summary)"
   ]
  },
  {
   "cell_type": "code",
   "execution_count": 40,
   "id": "78f7dd84-bc5e-430a-b760-bb0cda6bb733",
   "metadata": {},
   "outputs": [],
   "source": [
    "engines = openai.Engine.list()\n"
   ]
  },
  {
   "cell_type": "code",
   "execution_count": 6,
   "id": "eb483584-6722-4aa7-ab4e-8a5b1deaf608",
   "metadata": {},
   "outputs": [],
   "source": [
    "responses = pickle.load( open(\"../data/pickle/davinci_pairs.pkl\", \"rb\" ))\n"
   ]
  },
  {
   "cell_type": "code",
   "execution_count": 8,
   "id": "33c7c10f-5663-46c7-af40-2a31af33e860",
   "metadata": {},
   "outputs": [
    {
     "data": {
      "text/plain": [
       "2"
      ]
     },
     "execution_count": 8,
     "metadata": {},
     "output_type": "execute_result"
    }
   ],
   "source": [
    "len(responses)"
   ]
  },
  {
   "cell_type": "code",
   "execution_count": 165,
   "id": "0f9964e5-74ee-4668-8295-91bd4b9120b2",
   "metadata": {},
   "outputs": [
    {
     "name": "stdout",
     "output_type": "stream",
     "text": [
      "These are the packet summaries:\n",
      "192.168.1.190 → 192.168.1.194 ICMP 100 Echo (ping) reply id=0x9015, seq=19497\n",
      "192.168.1.194 → 192.168.1.190 ICMP 100 Echo (ping) request id=0x9015, seq=19490\n",
      "192.168.1.193 → 192.168.1.190 ICMP 76 Echo (ping) request id=0x0001, seq=4723\n",
      "192.168.1.190 → 192.168.1.152 DNS 193 Standard query response 0x0971 No such name AAAA a2z3kk2ebqzso7.iot.ap-southeast-2.amazonaws.com SOA ns-1926.awsdns-48.co.uk\n",
      "192.168.1.193 → 192.168.1.190 ICMP 76 Echo (ping) request id=0x0001, seq=5007\n",
      "192.168.1.190 → 192.168.1.152 DNS 193 Standard query response 0x063b No such name AAAA a2z3kk2ebqzso7.iot.ap-southeast-2.amazonaws.com SOA ns-1926.awsdns-48.co.uk\n",
      "192.168.1.192 → 192.168.1.190 ICMP 100 Echo (ping) request id=0x112d, seq=5550\n",
      "192.168.1.194 → 192.168.1.190 ICMP 100 Echo (ping) request id=0x9015, seq=19685\n",
      "192.168.1.190 → 192.168.1.194 ICMP 100 Echo (ping) reply id=0x9015, seq=18947\n",
      "192.168.1.190 → 192.168.1.192 ICMP 100 Echo (ping) reply id=0x112d, seq=5643\n",
      "\n",
      "Generate python code for creating these packets with Scapy framework and put them all in a list named pkt_list.\n",
      "\n",
      "\n",
      "pkt_list = []\n",
      "\n",
      "pkt1 = IP(src=\"192.168.1.190\", dst=\"192.168.1.194\")/ICMP(type=\"echo-reply\", id=0x9015, seq=19497)\n",
      "pkt_list.append(pkt1)\n",
      "\n",
      "pkt2 = IP(src=\"192.168.1.194\", dst=\"192.168.1.190\")/ICMP(type=\"echo-request\", id=0x9015, seq=19490)\n",
      "pkt_list.append(pkt2)\n",
      "\n",
      "pkt3 = IP(src=\"192.168.1.193\", dst=\"192.168.1.190\")/ICMP(type=\"echo-request\", id=0x0001, seq=4723)\n",
      "pkt_list.append(pkt3)\n",
      "\n",
      "pkt4 = IP(src=\"192.168.1.190\", dst=\"192.168.1.152\")/DNS(id=0x0971, qr=1, opcode=0, rcode=3, qdcount=1, ancount=0, nscount=0, arcount=0, qd=DNSQR(qname=\"a2z3kk2ebqzso7.iot.ap-southeast-2.amazonaws.com\", qtype=\"SOA\", qclass=\"IN\"))\n",
      "pkt_list.append(pkt4)\n",
      "\n",
      "pkt5 = IP(src=\"192.168.1.193\", dst=\"192.168.1.190\")/ICMP(type=\"echo-request\", id=0x0001, seq=5007)\n",
      "pkt_list.append(pkt5)\n",
      "\n",
      "pkt6 = IP(src=\"192.168.1.190\", dst=\"192.168.1.152\")/DNS(id=0x063b, qr=1, opcode=0, rcode=3, qdcount=1, ancount=0, nscount=0, arcount=0, qd=DNSQR(qname=\"a2z3kk2ebqzso7.iot.ap-southeast-2.amazonaws.com\", qtype=\"SOA\", qclass=\"IN\"))\n",
      "pkt_list.append(pkt6)\n",
      "\n",
      "pkt7 = IP(src=\"192.168.1.192\", dst=\"192.168.1.190\")/ICMP(type=\"echo-request\", id=0x112d, seq=5550)\n",
      "pkt_list.append(pkt7)\n",
      "\n",
      "pkt8 = IP(src=\"192.168.1.194\", dst=\"192.168.1.190\")/ICMP(type=\"echo-request\", id=0x9015, seq=19685)\n",
      "pkt_list.append(pkt8)\n",
      "\n",
      "pkt9 = IP(src=\"192.168.1.190\", dst=\"192.168.1.194\")/ICMP(type=\"echo-reply\", id=0x9015, seq=18947)\n",
      "pkt_list.append(pkt9)\n",
      "\n",
      "pkt10 = IP(src=\"192.168.1.190\", dst=\"192.168.1.192\")/ICMP(type=\"echo-reply\", id=0x112d, seq=5643)\n",
      "pkt_list.append(pkt10)\n"
     ]
    }
   ],
   "source": [
    "summaries = random.choices(packets_summary,k=packets_per_request)\n",
    "query = \"These are the packet summaries:\\n\"\n",
    "text_sum = \"\"\n",
    "for summary in summaries:\n",
    "    query += summary + \"\\n\"\n",
    "    text_sum += summary + \"\\n\"\n",
    "    \n",
    "query += \"\\nGenerate python code for creating these packets with Scapy framework and put them all in a list named pkt_list.\"\n",
    "    \n",
    "print(query)\n",
    "    \n",
    "completion = openai.Completion.create(engine=\"text-davinci-003\", prompt=query,max_tokens=2600,temperature=0.1)\n",
    "completion[\"prompt_summary\"] = text_sum\n",
    "responses.append(completion)\n",
    "\n",
    "print(responses[-1].choices[0].text)"
   ]
  },
  {
   "cell_type": "code",
   "execution_count": 166,
   "id": "d004a45f-5246-4b57-8731-ad5fed659106",
   "metadata": {
    "tags": []
   },
   "outputs": [
    {
     "name": "stdout",
     "output_type": "stream",
     "text": [
      "\n",
      "\n",
      "pkt_list = []\n",
      "\n",
      "pkt1 = IP(src=\"192.168.1.190\", dst=\"192.168.1.194\")/ICMP(type=\"echo-reply\", id=0x9015, seq=19497)\n",
      "pkt_list.append(pkt1)\n",
      "\n",
      "pkt2 = IP(src=\"192.168.1.194\", dst=\"192.168.1.190\")/ICMP(type=\"echo-request\", id=0x9015, seq=19490)\n",
      "pkt_list.append(pkt2)\n",
      "\n",
      "pkt3 = IP(src=\"192.168.1.193\", dst=\"192.168.1.190\")/ICMP(type=\"echo-request\", id=0x0001, seq=4723)\n",
      "pkt_list.append(pkt3)\n",
      "\n",
      "pkt4 = IP(src=\"192.168.1.190\", dst=\"192.168.1.152\")/DNS(id=0x0971, qr=1, opcode=0, rcode=3, qdcount=1, ancount=0, nscount=0, arcount=0, qd=DNSQR(qname=\"a2z3kk2ebqzso7.iot.ap-southeast-2.amazonaws.com\", qtype=\"SOA\", qclass=\"IN\"))\n",
      "pkt_list.append(pkt4)\n",
      "\n",
      "pkt5 = IP(src=\"192.168.1.193\", dst=\"192.168.1.190\")/ICMP(type=\"echo-request\", id=0x0001, seq=5007)\n",
      "pkt_list.append(pkt5)\n",
      "\n",
      "pkt6 = IP(src=\"192.168.1.190\", dst=\"192.168.1.152\")/DNS(id=0x063b, qr=1, opcode=0, rcode=3, qdcount=1, ancount=0, nscount=0, arcount=0, qd=DNSQR(qname=\"a2z3kk2ebqzso7.iot.ap-southeast-2.amazonaws.com\", qtype=\"SOA\", qclass=\"IN\"))\n",
      "pkt_list.append(pkt6)\n",
      "\n",
      "pkt7 = IP(src=\"192.168.1.192\", dst=\"192.168.1.190\")/ICMP(type=\"echo-request\", id=0x112d, seq=5550)\n",
      "pkt_list.append(pkt7)\n",
      "\n",
      "pkt8 = IP(src=\"192.168.1.194\", dst=\"192.168.1.190\")/ICMP(type=\"echo-request\", id=0x9015, seq=19685)\n",
      "pkt_list.append(pkt8)\n",
      "\n",
      "pkt9 = IP(src=\"192.168.1.190\", dst=\"192.168.1.194\")/ICMP(type=\"echo-reply\", id=0x9015, seq=18947)\n",
      "pkt_list.append(pkt9)\n",
      "\n",
      "pkt10 = IP(src=\"192.168.1.190\", dst=\"192.168.1.192\")/ICMP(type=\"echo-reply\", id=0x112d, seq=5643)\n",
      "pkt_list.append(pkt10)\n"
     ]
    }
   ],
   "source": [
    "print(responses[-1].choices[0].text)"
   ]
  },
  {
   "cell_type": "code",
   "execution_count": 167,
   "id": "bd8bb17f-6a7b-4520-90b2-9d3a55737eac",
   "metadata": {},
   "outputs": [],
   "source": [
    "exec(responses[-1].choices[0].text)"
   ]
  },
  {
   "cell_type": "code",
   "execution_count": 168,
   "id": "824e7b61-35c8-4cb0-8d3f-34adbf1d89f2",
   "metadata": {},
   "outputs": [
    {
     "data": {
      "text/plain": [
       "[<IP  frag=0 proto=icmp src=192.168.1.190 dst=192.168.1.194 |<ICMP  type=echo-reply id=0x9015 seq=0x4c29 |>>,\n",
       " <IP  frag=0 proto=icmp src=192.168.1.194 dst=192.168.1.190 |<ICMP  type=echo-request id=0x9015 seq=0x4c22 |>>,\n",
       " <IP  frag=0 proto=icmp src=192.168.1.193 dst=192.168.1.190 |<ICMP  type=echo-request id=0x1 seq=0x1273 |>>,\n",
       " <IP  src=192.168.1.190 dst=192.168.1.152 |<DNS  id=2417 qr=1 opcode=QUERY rcode=name-error qdcount=1 ancount=0 nscount=0 arcount=0 qd=<DNSQR  qname='a2z3kk2ebqzso7.iot.ap-southeast-2.amazonaws.com.' qtype=SOA qclass=IN |> |>>,\n",
       " <IP  frag=0 proto=icmp src=192.168.1.193 dst=192.168.1.190 |<ICMP  type=echo-request id=0x1 seq=0x138f |>>,\n",
       " <IP  src=192.168.1.190 dst=192.168.1.152 |<DNS  id=1595 qr=1 opcode=QUERY rcode=name-error qdcount=1 ancount=0 nscount=0 arcount=0 qd=<DNSQR  qname='a2z3kk2ebqzso7.iot.ap-southeast-2.amazonaws.com.' qtype=SOA qclass=IN |> |>>,\n",
       " <IP  frag=0 proto=icmp src=192.168.1.192 dst=192.168.1.190 |<ICMP  type=echo-request id=0x112d seq=0x15ae |>>,\n",
       " <IP  frag=0 proto=icmp src=192.168.1.194 dst=192.168.1.190 |<ICMP  type=echo-request id=0x9015 seq=0x4ce5 |>>,\n",
       " <IP  frag=0 proto=icmp src=192.168.1.190 dst=192.168.1.194 |<ICMP  type=echo-reply id=0x9015 seq=0x4a03 |>>,\n",
       " <IP  frag=0 proto=icmp src=192.168.1.190 dst=192.168.1.192 |<ICMP  type=echo-reply id=0x112d seq=0x160b |>>]"
      ]
     },
     "execution_count": 168,
     "metadata": {},
     "output_type": "execute_result"
    }
   ],
   "source": [
    "pkt_list"
   ]
  },
  {
   "cell_type": "code",
   "execution_count": 171,
   "id": "31f2709a-8b38-4d83-8420-1712fb6a6471",
   "metadata": {},
   "outputs": [
    {
     "data": {
      "text/plain": [
       "20"
      ]
     },
     "execution_count": 171,
     "metadata": {},
     "output_type": "execute_result"
    }
   ],
   "source": [
    "len(responses)"
   ]
  },
  {
   "cell_type": "code",
   "execution_count": 172,
   "id": "21a0bc16-9c1d-43f2-8380-23060cb8b6c9",
   "metadata": {},
   "outputs": [],
   "source": [
    "pickle.dump(responses, open( \"../data/pickle/davinci_pairs.pkl\", \"wb\" ) )"
   ]
  },
  {
   "cell_type": "code",
   "execution_count": 146,
   "id": "9bb88436-91c5-40a7-86fc-d540dbbb71c1",
   "metadata": {},
   "outputs": [],
   "source": [
    "fixed_text = \"\"\"\n",
    "\n",
    "\n",
    "pkt_list = [\n",
    "    scapy.Ether(src=\"192.168.1.190\", dst=\"192.168.1.193\")/scapy.IP(src=\"192.168.1.190\", dst=\"192.168.1.193\")/scapy.ICMP(type=\"echo-reply\", id=0x0001, seq=5396),\n",
    "    scapy.Ether(src=\"192.168.1.190\", dst=\"192.168.1.194\")/scapy.IP(src=\"192.168.1.190\", dst=\"192.168.1.194\")/scapy.ICMP(type=\"echo-reply\", id=0x9015, seq=18669),\n",
    "    scapy.Ether(src=\"192.168.1.193\", dst=\"192.168.1.190\")/scapy.IP(src=\"192.168.1.193\", dst=\"192.168.1.190\")/scapy.ICMP(type=\"echo-request\", id=0x0001, seq=4368),\n",
    "    scapy.Ether(src=\"192.168.1.190\", dst=\"192.168.1.194\")/scapy.IP(src=\"192.168.1.190\", dst=\"192.168.1.194\")/scapy.ICMP(type=\"echo-reply\", id=0x9015, seq=19807),\n",
    "    scapy.Ether(src=\"192.168.1.190\", dst=\"192.168.1.193\")/scapy.IP(src=\"192.168.1.190\", dst=\"192.168.1.193\")/scapy.ICMP(type=\"echo-reply\", id=0x0001, seq=4797),\n",
    "    scapy.Ether(src=\"192.168.1.190\", dst=\"192.168.1.194\")/scapy.IP(src=\"192.168.1.190\", dst=\"192.168.1.194\")/scapy.ICMP(type=\"echo-reply\", id=0x9015, seq=18829),\n",
    "    scapy.Ether(src=\"192.168.1.194\", dst=\"192.168.1.190\")/scapy.IP(src=\"192.168.1.194\", dst=\"192.168.1.190\")/scapy.ICMP(type=\"echo-request\", id=0x9015, seq=19744),\n",
    "    scapy.Ether(src=\"192.168.1.190\", dst=\"192.168.1.193\")/scapy.IP(src=\"192.168.1.190\", dst=\"192.168.1.193\")/scapy.ICMP(type=\"echo-reply\", id=0x0001, seq=5266),\n",
    "    scapy.Ether(src=\"192.168.1.194\", dst=\"192.168.1.190\")/scapy.IP(src=\"192.168.1.194\", dst=\"192.168.1.190\")/scapy.ICMP(type=\"echo-request\", id=0x9015, seq=18848)\n",
    "]\n",
    "\"\"\"\n",
    "\n"
   ]
  },
  {
   "cell_type": "code",
   "execution_count": 147,
   "id": "36835b6f-9fa5-4cf8-a8a8-aa5de226066d",
   "metadata": {},
   "outputs": [],
   "source": [
    "responses[-1].choices[0].text = fixed_text"
   ]
  },
  {
   "cell_type": "code",
   "execution_count": 99,
   "id": "d994762f-2ebe-453f-8b8e-d2c601db1bba",
   "metadata": {},
   "outputs": [
    {
     "name": "stdout",
     "output_type": "stream",
     "text": [
      "\n",
      "\n",
      "\n",
      "pkt_list = [\n",
      "    scapy.IP(src=\"192.168.1.194\", dst=\"192.168.1.190\")/scapy.ICMP(type=8, id=0x9015, seq=18455),\n",
      "    scapy.IP(src=\"192.168.1.190\", dst=\"192.168.1.194\")/scapy.ICMP(type=0, id=0x9015, seq=18820),\n",
      "    scapy.IP(src=\"192.168.1.190\", dst=\"192.168.1.194\")/scapy.ICMP(type=0, id=0x9015, seq=18566),\n",
      "    scapy.IP(src=\"192.5.6.30\", dst=\"192.168.1.190\")/scapy.DNS(id=0x176b, qd=scapy.DNSQR(qname=\"google.com\", qtype=\"NSEC3\", qclass=\"RRSIG\", rd=1, ar=scapy.DNSRR(rrname=\"a.gtld-servers.net\", type=\"RRSIG\", rclass=\"NSEC3\", ttl=0, rdlen=0, rdata=\"OPT\")), an=scapy.DNSRR(rrname=\"google.com\", type=\"SOA\", rclass=\"a.gtld-servers.net\", ttl=0, rdlen=0, rdata=\"RRSIG\")),\n",
      "    scapy.IP(src=\"192.168.1.193\", dst=\"192.168.1.190\")/scapy.ICMP(type=8, id=0x0001, seq=5521),\n",
      "    scapy.IP(src=\"192.168.1.190\", dst=\"192.168.1.192\")/scapy.ICMP(type=0, id=0x112d, seq=6590),\n",
      "    scapy.IP(src=\"192.168.1.190\", dst=\"192.168.1.192\")/scapy.ICMP(type=0, id=0x112d, seq=5868),\n",
      "    scapy.IP(src=\"192.168.1.192\", dst=\"192.168.1.190\")/scapy.ICMP(type=8, id=0x112d, seq=6037),\n",
      "    scapy.IP(src=\"192.168.1.190\", dst=\"192.168.1.192\")/scapy.ICMP(type=0, id=0x112d, seq=6207),\n",
      "    scapy.IP(src=\"192.168.1.192\", dst=\"192.168.1.190\")/scapy.ICMP(type=8, id=0x112d, seq=6477)\n",
      "]\n",
      "\n",
      "\n",
      "\n"
     ]
    }
   ],
   "source": [
    "print(responses[-1].choices[0].text)"
   ]
  },
  {
   "cell_type": "code",
   "execution_count": 170,
   "id": "9bb3a5ba-9651-477a-b0e4-b5869e204fe2",
   "metadata": {},
   "outputs": [],
   "source": [
    "del responses[-2]"
   ]
  },
  {
   "cell_type": "code",
   "execution_count": null,
   "id": "9323cfbe-0e28-4fb3-806c-0b162516024b",
   "metadata": {},
   "outputs": [],
   "source": []
  }
 ],
 "metadata": {
  "kernelspec": {
   "display_name": "Python 3 (ipykernel)",
   "language": "python",
   "name": "python3"
  },
  "language_info": {
   "codemirror_mode": {
    "name": "ipython",
    "version": 3
   },
   "file_extension": ".py",
   "mimetype": "text/x-python",
   "name": "python",
   "nbconvert_exporter": "python",
   "pygments_lexer": "ipython3",
   "version": "3.10.6"
  }
 },
 "nbformat": 4,
 "nbformat_minor": 5
}
