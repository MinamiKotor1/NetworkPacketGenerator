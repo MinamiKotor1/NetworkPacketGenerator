{
 "cells": [
  {
   "cell_type": "code",
   "execution_count": 12,
   "id": "0ba31d09-0b4a-4297-8b85-485d82901993",
   "metadata": {},
   "outputs": [],
   "source": [
    "import pickle\n",
    "import json\n",
    "import csv"
   ]
  },
  {
   "cell_type": "code",
   "execution_count": 2,
   "id": "682a2c0c-a65e-4a9c-91e6-3c84e3022c15",
   "metadata": {},
   "outputs": [],
   "source": [
    "responses = pickle.load( open(\"../data/pickle/davinci_pairs.pkl\", \"rb\" ))\n"
   ]
  },
  {
   "cell_type": "code",
   "execution_count": 3,
   "id": "125078c9-c104-4e00-a4b8-4feccb0eecbb",
   "metadata": {},
   "outputs": [
    {
     "data": {
      "text/plain": [
       "<OpenAIObject text_completion id=cmpl-6kXPuEpPQKo0y3matYdkNXkVhok8t at 0x7f22e7300a40> JSON: {\n",
       "  \"choices\": [\n",
       "    {\n",
       "      \"finish_reason\": \"stop\",\n",
       "      \"index\": 0,\n",
       "      \"logprobs\": null,\n",
       "      \"text\": \"\\n\\npkt_list = [ \\n  IP(src=\\\"192.168.1.190\\\", dst=\\\"192.168.1.194\\\")/ICMP(type=\\\"echo-reply\\\", id=0x9015, seq=19861),\\n  IP(src=\\\"192.168.1.193\\\", dst=\\\"192.168.1.190\\\")/ICMP(type=\\\"echo-request\\\", id=0x0001, seq=4831), \\n  IP(src=\\\"192.168.1.190\\\", dst=\\\"192.168.1.192\\\")/ICMP(type=\\\"echo-reply\\\", id=0x112d, seq=5366),\\n  IP(src=\\\"192.168.1.190\\\", dst=\\\"192.168.1.192\\\")/ICMP(type=\\\"echo-reply\\\", id=0x112d, seq=5471), \\n  IP(src=\\\"127.0.0.1\\\", dst=\\\"127.0.0.1\\\")/DNS(qd=DNSQR(qname=\\\"daisy.ubuntu.com\\\"), aa=1, ra=1, rcode=0xe150, an=DNSRR(rrname=\\\"daisy.ubuntu.com\\\", type=\\\"SOA\\\", rdata=\\\"ns1.canonical.com\\\")), \\n  IP(src=\\\"192.168.1.192\\\", dst=\\\"192.168.1.190\\\")/ICMP(type=\\\"echo-request\\\", id=0x112d, seq=5986),\\n  IP(src=\\\"192.168.1.190\\\", dst=\\\"192.168.1.192\\\")/ICMP(type=\\\"echo-reply\\\", id=0x112d, seq=5563),\\n  IP(src=\\\"192.168.1.152\\\", dst=\\\"192.168.1.190\\\")/DNS(qd=DNSQR(qname=\\\"a2z3kk2ebqzso7.iot.ap-southeast-2.amazonaws.com\\\"), rcode=0xc68e),\\n  IP(src=\\\"192.168.1.194\\\", dst=\\\"192.168.1.190\\\")/ICMP(type=\\\"echo-request\\\", id=0x9015, seq=19528),\\n  IP(src=\\\"192.168.1.190\\\", dst=\\\"192.168.1.192\\\")/ICMP(type=\\\"echo-reply\\\", id=0x112d, seq=5751) \\n]\"\n",
       "    }\n",
       "  ],\n",
       "  \"created\": 1676549562,\n",
       "  \"id\": \"cmpl-6kXPuEpPQKo0y3matYdkNXkVhok8t\",\n",
       "  \"model\": \"text-davinci-003\",\n",
       "  \"object\": \"text_completion\",\n",
       "  \"prompt_summary\": \"192.168.1.190 \\u2192 192.168.1.194 ICMP 100 Echo (ping) reply id=0x9015, seq=19861\\n192.168.1.193 \\u2192 192.168.1.190 ICMP 76 Echo (ping) request id=0x0001, seq=4831\\n192.168.1.190 \\u2192 192.168.1.192 ICMP 100 Echo (ping) reply id=0x112d, seq=5366\\n192.168.1.190 \\u2192 192.168.1.192 ICMP 100 Echo (ping) reply id=0x112d, seq=5471\\n127.0.0.1 \\u2192 127.0.0.1 DNS 139 Standard query response 0xe150 AAAA daisy.ubuntu.com SOA ns1.canonical.com\\n192.168.1.192 \\u2192 192.168.1.190 ICMP 100 Echo (ping) request id=0x112d, seq=5986\\n192.168.1.190 \\u2192 192.168.1.192 ICMP 100 Echo (ping) reply id=0x112d, seq=5563\\n192.168.1.152 \\u2192 192.168.1.190 DNS 109 Standard query 0xc68e AAAA a2z3kk2ebqzso7.iot.ap-southeast-2.amazonaws.com\\n192.168.1.194 \\u2192 192.168.1.190 ICMP 100 Echo (ping) request id=0x9015, seq=19528\\n192.168.1.190 \\u2192 192.168.1.192 ICMP 100 Echo (ping) reply id=0x112d, seq=5751\\n\",\n",
       "  \"usage\": {\n",
       "    \"completion_tokens\": 550,\n",
       "    \"prompt_tokens\": 405,\n",
       "    \"total_tokens\": 955\n",
       "  }\n",
       "}"
      ]
     },
     "execution_count": 3,
     "metadata": {},
     "output_type": "execute_result"
    }
   ],
   "source": [
    "responses[0]"
   ]
  },
  {
   "cell_type": "code",
   "execution_count": 16,
   "id": "51c754dd-fb1c-45b3-a185-eea6b24756ca",
   "metadata": {},
   "outputs": [],
   "source": [
    "data = []\n",
    "\n",
    "for item in responses:\n",
    "    data.append({\"prompt\":item[\"prompt_summary\"],\"completion\":item[\"choices\"][0][\"text\"]})\n",
    "    data[-1][\"prompt\"] += \"\\n###\\n\\n\"\n",
    "    #data[-1][\"completion\"] = \"\\n\" + data[-1][\"completion\"]\n",
    "    data[-1][\"completion\"] += \"\\n\\n###\""
   ]
  },
  {
   "cell_type": "code",
   "execution_count": 10,
   "id": "8aea2234-9721-480d-b793-173fe28ddf7e",
   "metadata": {},
   "outputs": [
    {
     "data": {
      "text/plain": [
       "{'prompt': '192.168.1.190 → 192.168.1.194 ICMP 100 Echo (ping) reply id=0x9015, seq=19861\\n192.168.1.193 → 192.168.1.190 ICMP 76 Echo (ping) request id=0x0001, seq=4831\\n192.168.1.190 → 192.168.1.192 ICMP 100 Echo (ping) reply id=0x112d, seq=5366\\n192.168.1.190 → 192.168.1.192 ICMP 100 Echo (ping) reply id=0x112d, seq=5471\\n127.0.0.1 → 127.0.0.1 DNS 139 Standard query response 0xe150 AAAA daisy.ubuntu.com SOA ns1.canonical.com\\n192.168.1.192 → 192.168.1.190 ICMP 100 Echo (ping) request id=0x112d, seq=5986\\n192.168.1.190 → 192.168.1.192 ICMP 100 Echo (ping) reply id=0x112d, seq=5563\\n192.168.1.152 → 192.168.1.190 DNS 109 Standard query 0xc68e AAAA a2z3kk2ebqzso7.iot.ap-southeast-2.amazonaws.com\\n192.168.1.194 → 192.168.1.190 ICMP 100 Echo (ping) request id=0x9015, seq=19528\\n192.168.1.190 → 192.168.1.192 ICMP 100 Echo (ping) reply id=0x112d, seq=5751\\n\\n\\n###\\n\\n',\n",
       " 'completion': '\\n\\n\\npkt_list = [ \\n  IP(src=\"192.168.1.190\", dst=\"192.168.1.194\")/ICMP(type=\"echo-reply\", id=0x9015, seq=19861),\\n  IP(src=\"192.168.1.193\", dst=\"192.168.1.190\")/ICMP(type=\"echo-request\", id=0x0001, seq=4831), \\n  IP(src=\"192.168.1.190\", dst=\"192.168.1.192\")/ICMP(type=\"echo-reply\", id=0x112d, seq=5366),\\n  IP(src=\"192.168.1.190\", dst=\"192.168.1.192\")/ICMP(type=\"echo-reply\", id=0x112d, seq=5471), \\n  IP(src=\"127.0.0.1\", dst=\"127.0.0.1\")/DNS(qd=DNSQR(qname=\"daisy.ubuntu.com\"), aa=1, ra=1, rcode=0xe150, an=DNSRR(rrname=\"daisy.ubuntu.com\", type=\"SOA\", rdata=\"ns1.canonical.com\")), \\n  IP(src=\"192.168.1.192\", dst=\"192.168.1.190\")/ICMP(type=\"echo-request\", id=0x112d, seq=5986),\\n  IP(src=\"192.168.1.190\", dst=\"192.168.1.192\")/ICMP(type=\"echo-reply\", id=0x112d, seq=5563),\\n  IP(src=\"192.168.1.152\", dst=\"192.168.1.190\")/DNS(qd=DNSQR(qname=\"a2z3kk2ebqzso7.iot.ap-southeast-2.amazonaws.com\"), rcode=0xc68e),\\n  IP(src=\"192.168.1.194\", dst=\"192.168.1.190\")/ICMP(type=\"echo-request\", id=0x9015, seq=19528),\\n  IP(src=\"192.168.1.190\", dst=\"192.168.1.192\")/ICMP(type=\"echo-reply\", id=0x112d, seq=5751) \\n]\\n\\n###'}"
      ]
     },
     "execution_count": 10,
     "metadata": {},
     "output_type": "execute_result"
    }
   ],
   "source": [
    "data[0]"
   ]
  },
  {
   "cell_type": "code",
   "execution_count": 11,
   "id": "01c5b92e-5e2b-4e88-a793-bcb296abb8a3",
   "metadata": {},
   "outputs": [],
   "source": [
    "with open('../data/json/davinci_pairs.json', 'w') as fp:\n",
    "    json.dump(data, fp)"
   ]
  },
  {
   "cell_type": "code",
   "execution_count": 17,
   "id": "92ef6ec9-b98b-4f73-a103-d45dd21533e2",
   "metadata": {},
   "outputs": [],
   "source": [
    "with open('../data/csv/davinci_pairs.csv', 'w') as csvfile:\n",
    "    writer = csv.DictWriter(csvfile, fieldnames=[\"prompt\",\"completion\"])\n",
    "    writer.writeheader()\n",
    "    for row in data:\n",
    "        writer.writerow(row)"
   ]
  },
  {
   "cell_type": "code",
   "execution_count": null,
   "id": "72b878cd-660a-4655-9e7d-793854568cf2",
   "metadata": {},
   "outputs": [],
   "source": []
  }
 ],
 "metadata": {
  "kernelspec": {
   "display_name": "Python 3 (ipykernel)",
   "language": "python",
   "name": "python3"
  },
  "language_info": {
   "codemirror_mode": {
    "name": "ipython",
    "version": 3
   },
   "file_extension": ".py",
   "mimetype": "text/x-python",
   "name": "python",
   "nbconvert_exporter": "python",
   "pygments_lexer": "ipython3",
   "version": "3.10.6"
  }
 },
 "nbformat": 4,
 "nbformat_minor": 5
}
